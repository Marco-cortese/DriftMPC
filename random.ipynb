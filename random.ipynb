{
 "cells": [
  {
   "cell_type": "markdown",
   "id": "3046ba09",
   "metadata": {},
   "source": [
    "# Random jupyter notebook to explore/understand varius stuff"
   ]
  },
  {
   "cell_type": "code",
   "execution_count": null,
   "id": "258c1fc5",
   "metadata": {},
   "outputs": [],
   "source": [
    "from initParam import *"
   ]
  },
  {
   "cell_type": "markdown",
   "id": "059288a6",
   "metadata": {},
   "source": [
    "## FIALA Tire Model"
   ]
  },
  {
   "cell_type": "code",
   "execution_count": null,
   "id": "1e9b9ddf",
   "metadata": {},
   "outputs": [],
   "source": [
    "μf, μr = 0.5, 0.47   # [] friction coefficients front and rear\n",
    "Cyf = 370.36;  # [N/rad] Cornering stiffness front tyre\n",
    "Cyr = 1134.05; # [N/rad] Cornering stiffness rear tyre\n",
    "\n",
    "def fiala(α, Fx, Fz, μ, Cy):\n",
    "    assert Fx**2 < μ**2 * Fz**2, \"Longitudinal force exceeds maximum limit\"\n",
    "    Fy_max = sqrt(μ**2 * Fz**2 - Fx**2) # maximum lateral force\n",
    "    αs = atan(3*Fy_max/Cy) # maximum slip angle\n",
    "    assert αs > 0, \"Maximum slip angle must be positive\"\n",
    "    if abs(α) < αs: \n",
    "        # return -Cy * tan(α) + Cy**2 * abs(tan(α)) * tan(α) / (3 * Fy_max) \\\n",
    "        #         - Cy**3 * tan(α)**3 / (27 * Fy_max**2)\n",
    "        return Cy * tan(α) - Cy**2 * abs(tan(α)) * tan(α) / (3 * Fy_max) \\\n",
    "                + Cy**3 * tan(α)**3 / (27 * Fy_max**2)\n",
    "    # else: return -Fy_max * sign(α)\n",
    "    else: return Fy_max * sign(α)\n",
    "\n",
    "# Test the fiala function\n",
    "FX = 4 # [N] # longitudinal force\n",
    "v_α = np.linspace(-π/4, π/4, 100) # slip angle vector\n",
    "Fy_fiala = np.array([fiala(α, FX, Fz_Front, μf, Cyf) for α in v_α]) \n",
    "\n",
    "# tanh approximation\n",
    "def fiala_tanh(α, Fx, Fz, μ, Cy):\n",
    "    assert Fx**2 < μ**2 * Fz**2, \"Longitudinal force exceeds maximum limit\"\n",
    "    Fy_max = sqrt(μ**2 * Fz**2 - Fx**2) # maximum lateral force\n",
    "    αs = atan(Fy_max/Cy) # maximum slip angle\n",
    "    return Fy_max * np.tanh(α / αs) # tanh approximation\n",
    "\n",
    "# Test the fiala_tanh function\n",
    "Fy_fiala_tanh = np.array([fiala_tanh(α, FX, Fz_Front, μf, Cyf) for α in v_α])\n",
    "\n",
    "# Plot the results\n",
    "plt.figure(figsize=(10, 6))\n",
    "plt.plot(np.rad2deg(v_α), Fy_fiala, label='Fiala')\n",
    "plt.plot(np.rad2deg(v_α), Fy_fiala_tanh, label='Tanh')\n",
    "plt.title('Tire Models')\n",
    "plt.xlabel('Slip Angle [deg]')\n",
    "plt.ylabel('Lateral Force [N]')\n",
    "plt.legend()\n",
    "plt.show()\n",
    "\n",
    "np.tanh(0.1)"
   ]
  }
 ],
 "metadata": {
  "kernelspec": {
   "display_name": "Python 3",
   "language": "python",
   "name": "python3"
  },
  "language_info": {
   "codemirror_mode": {
    "name": "ipython",
    "version": 3
   },
   "file_extension": ".py",
   "mimetype": "text/x-python",
   "name": "python",
   "nbconvert_exporter": "python",
   "pygments_lexer": "ipython3",
   "version": "3.13.5"
  }
 },
 "nbformat": 4,
 "nbformat_minor": 5
}
